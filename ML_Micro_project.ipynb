{
  "nbformat": 4,
  "nbformat_minor": 0,
  "metadata": {
    "colab": {
      "name": "ML_Micro_project.ipynb",
      "provenance": [],
      "collapsed_sections": [],
      "authorship_tag": "ABX9TyPeHKUZ2vujna1+h0bEcFEd",
      "include_colab_link": true
    },
    "kernelspec": {
      "name": "python3",
      "display_name": "Python 3"
    },
    "language_info": {
      "name": "python"
    }
  },
  "cells": [
    {
      "cell_type": "markdown",
      "metadata": {
        "id": "view-in-github",
        "colab_type": "text"
      },
      "source": [
        "<a href=\"https://colab.research.google.com/github/Rishubh03/Microproject-ENT361-3/blob/main/ML_Micro_project.ipynb\" target=\"_parent\"><img src=\"https://colab.research.google.com/assets/colab-badge.svg\" alt=\"Open In Colab\"/></a>"
      ]
    },
    {
      "cell_type": "markdown",
      "source": [
        "##Hydroponic Nutrient Control System using machine learning"
      ],
      "metadata": {
        "id": "AsPX1E1P8d8b"
      }
    },
    {
      "cell_type": "code",
      "execution_count": 2,
      "metadata": {
        "id": "TimqrYzWN_aD"
      },
      "outputs": [],
      "source": [
        "# Importing Basic Libraries \n",
        "import pandas as pd\n",
        "import numpy as np\n",
        "\n",
        "# Visualization Libraries\n",
        "import matplotlib.pyplot as plt\n",
        "%matplotlib inline\n",
        "import seaborn as sns\n",
        "\n",
        "# Data Pre-processing Libraries\n",
        "from sklearn.preprocessing import MinMaxScaler, StandardScaler\n",
        "from sklearn.model_selection import train_test_split\n",
        "\n",
        "# Modelling Libraries\n",
        "from sklearn.neighbors import KNeighborsClassifier\n",
        "from sklearn.svm import SVC\n",
        "from sklearn.ensemble import RandomForestClassifier\n",
        "\n",
        "# Evaluation Libraries\n",
        "from sklearn.metrics import accuracy_score, precision_score"
      ]
    },
    {
      "cell_type": "markdown",
      "source": [
        "#Importing Dataset"
      ],
      "metadata": {
        "id": "QnGMyR_wBnIc"
      }
    },
    {
      "cell_type": "code",
      "source": [
        "data = pd.read_csv(\"/content/project_dataset.csv\")"
      ],
      "metadata": {
        "id": "Le1L9KtuSGbl"
      },
      "execution_count": 3,
      "outputs": []
    },
    {
      "cell_type": "code",
      "source": [
        "# view summary of dataset\n",
        "\n",
        "data.info()"
      ],
      "metadata": {
        "colab": {
          "base_uri": "https://localhost:8080/"
        },
        "id": "U4bizvGvBqHj",
        "outputId": "59c36eb1-ae1d-4614-bee6-33ca65e541e2"
      },
      "execution_count": 4,
      "outputs": [
        {
          "output_type": "stream",
          "name": "stdout",
          "text": [
            "<class 'pandas.core.frame.DataFrame'>\n",
            "RangeIndex: 2700 entries, 0 to 2699\n",
            "Data columns (total 4 columns):\n",
            " #   Column  Non-Null Count  Dtype  \n",
            "---  ------  --------------  -----  \n",
            " 0   PH      2700 non-null   float64\n",
            " 1   EC      2700 non-null   float64\n",
            " 2   TEMP    2700 non-null   float64\n",
            " 3   LABEL   2700 non-null   int64  \n",
            "dtypes: float64(3), int64(1)\n",
            "memory usage: 84.5 KB\n"
          ]
        }
      ]
    },
    {
      "cell_type": "markdown",
      "source": [
        "**Feature Description**\n",
        "\n",
        "**PH:** pH of water (0 to 14).\n",
        "\n",
        "**EC:** Electrical Conductivity of water (0 to 10 dS/m).\n",
        "\n",
        "**TEMP** Temperature of Water (32 to 100 F)."
      ],
      "metadata": {
        "id": "7GNXS0aqRLy4"
      }
    },
    {
      "cell_type": "code",
      "source": [
        "# preview the dataset\n",
        "\n",
        "data.head()"
      ],
      "metadata": {
        "colab": {
          "base_uri": "https://localhost:8080/",
          "height": 206
        },
        "id": "yfo08SSHBuYL",
        "outputId": "1a3b374f-cb5d-4252-bc32-ed4b6d0515dd"
      },
      "execution_count": 5,
      "outputs": [
        {
          "output_type": "execute_result",
          "data": {
            "text/plain": [
              "     PH    EC   TEMP  LABEL\n",
              "0  5.79  2.23  63.05      1\n",
              "1  5.62  2.38  59.56      1\n",
              "2  5.93  3.85  65.44      1\n",
              "3  5.61  3.57  78.36      1\n",
              "4  6.36  3.74  69.44      1"
            ],
            "text/html": [
              "\n",
              "  <div id=\"df-9883bbc8-3f4b-41e3-8b69-138b48294fe7\">\n",
              "    <div class=\"colab-df-container\">\n",
              "      <div>\n",
              "<style scoped>\n",
              "    .dataframe tbody tr th:only-of-type {\n",
              "        vertical-align: middle;\n",
              "    }\n",
              "\n",
              "    .dataframe tbody tr th {\n",
              "        vertical-align: top;\n",
              "    }\n",
              "\n",
              "    .dataframe thead th {\n",
              "        text-align: right;\n",
              "    }\n",
              "</style>\n",
              "<table border=\"1\" class=\"dataframe\">\n",
              "  <thead>\n",
              "    <tr style=\"text-align: right;\">\n",
              "      <th></th>\n",
              "      <th>PH</th>\n",
              "      <th>EC</th>\n",
              "      <th>TEMP</th>\n",
              "      <th>LABEL</th>\n",
              "    </tr>\n",
              "  </thead>\n",
              "  <tbody>\n",
              "    <tr>\n",
              "      <th>0</th>\n",
              "      <td>5.79</td>\n",
              "      <td>2.23</td>\n",
              "      <td>63.05</td>\n",
              "      <td>1</td>\n",
              "    </tr>\n",
              "    <tr>\n",
              "      <th>1</th>\n",
              "      <td>5.62</td>\n",
              "      <td>2.38</td>\n",
              "      <td>59.56</td>\n",
              "      <td>1</td>\n",
              "    </tr>\n",
              "    <tr>\n",
              "      <th>2</th>\n",
              "      <td>5.93</td>\n",
              "      <td>3.85</td>\n",
              "      <td>65.44</td>\n",
              "      <td>1</td>\n",
              "    </tr>\n",
              "    <tr>\n",
              "      <th>3</th>\n",
              "      <td>5.61</td>\n",
              "      <td>3.57</td>\n",
              "      <td>78.36</td>\n",
              "      <td>1</td>\n",
              "    </tr>\n",
              "    <tr>\n",
              "      <th>4</th>\n",
              "      <td>6.36</td>\n",
              "      <td>3.74</td>\n",
              "      <td>69.44</td>\n",
              "      <td>1</td>\n",
              "    </tr>\n",
              "  </tbody>\n",
              "</table>\n",
              "</div>\n",
              "      <button class=\"colab-df-convert\" onclick=\"convertToInteractive('df-9883bbc8-3f4b-41e3-8b69-138b48294fe7')\"\n",
              "              title=\"Convert this dataframe to an interactive table.\"\n",
              "              style=\"display:none;\">\n",
              "        \n",
              "  <svg xmlns=\"http://www.w3.org/2000/svg\" height=\"24px\"viewBox=\"0 0 24 24\"\n",
              "       width=\"24px\">\n",
              "    <path d=\"M0 0h24v24H0V0z\" fill=\"none\"/>\n",
              "    <path d=\"M18.56 5.44l.94 2.06.94-2.06 2.06-.94-2.06-.94-.94-2.06-.94 2.06-2.06.94zm-11 1L8.5 8.5l.94-2.06 2.06-.94-2.06-.94L8.5 2.5l-.94 2.06-2.06.94zm10 10l.94 2.06.94-2.06 2.06-.94-2.06-.94-.94-2.06-.94 2.06-2.06.94z\"/><path d=\"M17.41 7.96l-1.37-1.37c-.4-.4-.92-.59-1.43-.59-.52 0-1.04.2-1.43.59L10.3 9.45l-7.72 7.72c-.78.78-.78 2.05 0 2.83L4 21.41c.39.39.9.59 1.41.59.51 0 1.02-.2 1.41-.59l7.78-7.78 2.81-2.81c.8-.78.8-2.07 0-2.86zM5.41 20L4 18.59l7.72-7.72 1.47 1.35L5.41 20z\"/>\n",
              "  </svg>\n",
              "      </button>\n",
              "      \n",
              "  <style>\n",
              "    .colab-df-container {\n",
              "      display:flex;\n",
              "      flex-wrap:wrap;\n",
              "      gap: 12px;\n",
              "    }\n",
              "\n",
              "    .colab-df-convert {\n",
              "      background-color: #E8F0FE;\n",
              "      border: none;\n",
              "      border-radius: 50%;\n",
              "      cursor: pointer;\n",
              "      display: none;\n",
              "      fill: #1967D2;\n",
              "      height: 32px;\n",
              "      padding: 0 0 0 0;\n",
              "      width: 32px;\n",
              "    }\n",
              "\n",
              "    .colab-df-convert:hover {\n",
              "      background-color: #E2EBFA;\n",
              "      box-shadow: 0px 1px 2px rgba(60, 64, 67, 0.3), 0px 1px 3px 1px rgba(60, 64, 67, 0.15);\n",
              "      fill: #174EA6;\n",
              "    }\n",
              "\n",
              "    [theme=dark] .colab-df-convert {\n",
              "      background-color: #3B4455;\n",
              "      fill: #D2E3FC;\n",
              "    }\n",
              "\n",
              "    [theme=dark] .colab-df-convert:hover {\n",
              "      background-color: #434B5C;\n",
              "      box-shadow: 0px 1px 3px 1px rgba(0, 0, 0, 0.15);\n",
              "      filter: drop-shadow(0px 1px 2px rgba(0, 0, 0, 0.3));\n",
              "      fill: #FFFFFF;\n",
              "    }\n",
              "  </style>\n",
              "\n",
              "      <script>\n",
              "        const buttonEl =\n",
              "          document.querySelector('#df-9883bbc8-3f4b-41e3-8b69-138b48294fe7 button.colab-df-convert');\n",
              "        buttonEl.style.display =\n",
              "          google.colab.kernel.accessAllowed ? 'block' : 'none';\n",
              "\n",
              "        async function convertToInteractive(key) {\n",
              "          const element = document.querySelector('#df-9883bbc8-3f4b-41e3-8b69-138b48294fe7');\n",
              "          const dataTable =\n",
              "            await google.colab.kernel.invokeFunction('convertToInteractive',\n",
              "                                                     [key], {});\n",
              "          if (!dataTable) return;\n",
              "\n",
              "          const docLinkHtml = 'Like what you see? Visit the ' +\n",
              "            '<a target=\"_blank\" href=https://colab.research.google.com/notebooks/data_table.ipynb>data table notebook</a>'\n",
              "            + ' to learn more about interactive tables.';\n",
              "          element.innerHTML = '';\n",
              "          dataTable['output_type'] = 'display_data';\n",
              "          await google.colab.output.renderOutput(dataTable, element);\n",
              "          const docLink = document.createElement('div');\n",
              "          docLink.innerHTML = docLinkHtml;\n",
              "          element.appendChild(docLink);\n",
              "        }\n",
              "      </script>\n",
              "    </div>\n",
              "  </div>\n",
              "  "
            ]
          },
          "metadata": {},
          "execution_count": 5
        }
      ]
    },
    {
      "cell_type": "code",
      "source": [
        "# view dimensions of dataset\n",
        "\n",
        "data.shape"
      ],
      "metadata": {
        "colab": {
          "base_uri": "https://localhost:8080/"
        },
        "id": "qoFc-2puSivj",
        "outputId": "d732d835-a7b5-45fe-cb91-b0f70aed8516"
      },
      "execution_count": 6,
      "outputs": [
        {
          "output_type": "execute_result",
          "data": {
            "text/plain": [
              "(2700, 4)"
            ]
          },
          "metadata": {},
          "execution_count": 6
        }
      ]
    },
    {
      "cell_type": "code",
      "source": [
        "data.describe()"
      ],
      "metadata": {
        "colab": {
          "base_uri": "https://localhost:8080/",
          "height": 300
        },
        "id": "DtbPgn4bSnsa",
        "outputId": "fd2d34c8-8dae-4187-be7a-86123993430a"
      },
      "execution_count": 7,
      "outputs": [
        {
          "output_type": "execute_result",
          "data": {
            "text/plain": [
              "                PH           EC         TEMP        LABEL\n",
              "count  2700.000000  2700.000000  2700.000000  2700.000000\n",
              "mean      6.020019     4.248696    67.023096    14.000000\n",
              "std       1.570305     2.875982    19.973859     7.790324\n",
              "min       3.000000     0.000000    32.000000     1.000000\n",
              "25%       4.847500     1.687500    50.197500     7.000000\n",
              "50%       6.030000     3.820000    66.745000    14.000000\n",
              "75%       7.160000     6.650000    84.585000    21.000000\n",
              "max       8.990000    10.000000   100.000000    27.000000"
            ],
            "text/html": [
              "\n",
              "  <div id=\"df-3eda23dc-e238-4567-9714-12ed5db9e519\">\n",
              "    <div class=\"colab-df-container\">\n",
              "      <div>\n",
              "<style scoped>\n",
              "    .dataframe tbody tr th:only-of-type {\n",
              "        vertical-align: middle;\n",
              "    }\n",
              "\n",
              "    .dataframe tbody tr th {\n",
              "        vertical-align: top;\n",
              "    }\n",
              "\n",
              "    .dataframe thead th {\n",
              "        text-align: right;\n",
              "    }\n",
              "</style>\n",
              "<table border=\"1\" class=\"dataframe\">\n",
              "  <thead>\n",
              "    <tr style=\"text-align: right;\">\n",
              "      <th></th>\n",
              "      <th>PH</th>\n",
              "      <th>EC</th>\n",
              "      <th>TEMP</th>\n",
              "      <th>LABEL</th>\n",
              "    </tr>\n",
              "  </thead>\n",
              "  <tbody>\n",
              "    <tr>\n",
              "      <th>count</th>\n",
              "      <td>2700.000000</td>\n",
              "      <td>2700.000000</td>\n",
              "      <td>2700.000000</td>\n",
              "      <td>2700.000000</td>\n",
              "    </tr>\n",
              "    <tr>\n",
              "      <th>mean</th>\n",
              "      <td>6.020019</td>\n",
              "      <td>4.248696</td>\n",
              "      <td>67.023096</td>\n",
              "      <td>14.000000</td>\n",
              "    </tr>\n",
              "    <tr>\n",
              "      <th>std</th>\n",
              "      <td>1.570305</td>\n",
              "      <td>2.875982</td>\n",
              "      <td>19.973859</td>\n",
              "      <td>7.790324</td>\n",
              "    </tr>\n",
              "    <tr>\n",
              "      <th>min</th>\n",
              "      <td>3.000000</td>\n",
              "      <td>0.000000</td>\n",
              "      <td>32.000000</td>\n",
              "      <td>1.000000</td>\n",
              "    </tr>\n",
              "    <tr>\n",
              "      <th>25%</th>\n",
              "      <td>4.847500</td>\n",
              "      <td>1.687500</td>\n",
              "      <td>50.197500</td>\n",
              "      <td>7.000000</td>\n",
              "    </tr>\n",
              "    <tr>\n",
              "      <th>50%</th>\n",
              "      <td>6.030000</td>\n",
              "      <td>3.820000</td>\n",
              "      <td>66.745000</td>\n",
              "      <td>14.000000</td>\n",
              "    </tr>\n",
              "    <tr>\n",
              "      <th>75%</th>\n",
              "      <td>7.160000</td>\n",
              "      <td>6.650000</td>\n",
              "      <td>84.585000</td>\n",
              "      <td>21.000000</td>\n",
              "    </tr>\n",
              "    <tr>\n",
              "      <th>max</th>\n",
              "      <td>8.990000</td>\n",
              "      <td>10.000000</td>\n",
              "      <td>100.000000</td>\n",
              "      <td>27.000000</td>\n",
              "    </tr>\n",
              "  </tbody>\n",
              "</table>\n",
              "</div>\n",
              "      <button class=\"colab-df-convert\" onclick=\"convertToInteractive('df-3eda23dc-e238-4567-9714-12ed5db9e519')\"\n",
              "              title=\"Convert this dataframe to an interactive table.\"\n",
              "              style=\"display:none;\">\n",
              "        \n",
              "  <svg xmlns=\"http://www.w3.org/2000/svg\" height=\"24px\"viewBox=\"0 0 24 24\"\n",
              "       width=\"24px\">\n",
              "    <path d=\"M0 0h24v24H0V0z\" fill=\"none\"/>\n",
              "    <path d=\"M18.56 5.44l.94 2.06.94-2.06 2.06-.94-2.06-.94-.94-2.06-.94 2.06-2.06.94zm-11 1L8.5 8.5l.94-2.06 2.06-.94-2.06-.94L8.5 2.5l-.94 2.06-2.06.94zm10 10l.94 2.06.94-2.06 2.06-.94-2.06-.94-.94-2.06-.94 2.06-2.06.94z\"/><path d=\"M17.41 7.96l-1.37-1.37c-.4-.4-.92-.59-1.43-.59-.52 0-1.04.2-1.43.59L10.3 9.45l-7.72 7.72c-.78.78-.78 2.05 0 2.83L4 21.41c.39.39.9.59 1.41.59.51 0 1.02-.2 1.41-.59l7.78-7.78 2.81-2.81c.8-.78.8-2.07 0-2.86zM5.41 20L4 18.59l7.72-7.72 1.47 1.35L5.41 20z\"/>\n",
              "  </svg>\n",
              "      </button>\n",
              "      \n",
              "  <style>\n",
              "    .colab-df-container {\n",
              "      display:flex;\n",
              "      flex-wrap:wrap;\n",
              "      gap: 12px;\n",
              "    }\n",
              "\n",
              "    .colab-df-convert {\n",
              "      background-color: #E8F0FE;\n",
              "      border: none;\n",
              "      border-radius: 50%;\n",
              "      cursor: pointer;\n",
              "      display: none;\n",
              "      fill: #1967D2;\n",
              "      height: 32px;\n",
              "      padding: 0 0 0 0;\n",
              "      width: 32px;\n",
              "    }\n",
              "\n",
              "    .colab-df-convert:hover {\n",
              "      background-color: #E2EBFA;\n",
              "      box-shadow: 0px 1px 2px rgba(60, 64, 67, 0.3), 0px 1px 3px 1px rgba(60, 64, 67, 0.15);\n",
              "      fill: #174EA6;\n",
              "    }\n",
              "\n",
              "    [theme=dark] .colab-df-convert {\n",
              "      background-color: #3B4455;\n",
              "      fill: #D2E3FC;\n",
              "    }\n",
              "\n",
              "    [theme=dark] .colab-df-convert:hover {\n",
              "      background-color: #434B5C;\n",
              "      box-shadow: 0px 1px 3px 1px rgba(0, 0, 0, 0.15);\n",
              "      filter: drop-shadow(0px 1px 2px rgba(0, 0, 0, 0.3));\n",
              "      fill: #FFFFFF;\n",
              "    }\n",
              "  </style>\n",
              "\n",
              "      <script>\n",
              "        const buttonEl =\n",
              "          document.querySelector('#df-3eda23dc-e238-4567-9714-12ed5db9e519 button.colab-df-convert');\n",
              "        buttonEl.style.display =\n",
              "          google.colab.kernel.accessAllowed ? 'block' : 'none';\n",
              "\n",
              "        async function convertToInteractive(key) {\n",
              "          const element = document.querySelector('#df-3eda23dc-e238-4567-9714-12ed5db9e519');\n",
              "          const dataTable =\n",
              "            await google.colab.kernel.invokeFunction('convertToInteractive',\n",
              "                                                     [key], {});\n",
              "          if (!dataTable) return;\n",
              "\n",
              "          const docLinkHtml = 'Like what you see? Visit the ' +\n",
              "            '<a target=\"_blank\" href=https://colab.research.google.com/notebooks/data_table.ipynb>data table notebook</a>'\n",
              "            + ' to learn more about interactive tables.';\n",
              "          element.innerHTML = '';\n",
              "          dataTable['output_type'] = 'display_data';\n",
              "          await google.colab.output.renderOutput(dataTable, element);\n",
              "          const docLink = document.createElement('div');\n",
              "          docLink.innerHTML = docLinkHtml;\n",
              "          element.appendChild(docLink);\n",
              "        }\n",
              "      </script>\n",
              "    </div>\n",
              "  </div>\n",
              "  "
            ]
          },
          "metadata": {},
          "execution_count": 7
        }
      ]
    },
    {
      "cell_type": "code",
      "source": [
        "data['LABEL'].value_counts()"
      ],
      "metadata": {
        "colab": {
          "base_uri": "https://localhost:8080/"
        },
        "id": "V3c8YrpqXl1e",
        "outputId": "eef6d5e4-cc79-464c-d0af-6ccf4d4c8e4b"
      },
      "execution_count": 8,
      "outputs": [
        {
          "output_type": "execute_result",
          "data": {
            "text/plain": [
              "1     100\n",
              "15    100\n",
              "26    100\n",
              "25    100\n",
              "24    100\n",
              "23    100\n",
              "22    100\n",
              "21    100\n",
              "20    100\n",
              "19    100\n",
              "18    100\n",
              "17    100\n",
              "16    100\n",
              "14    100\n",
              "2     100\n",
              "13    100\n",
              "12    100\n",
              "11    100\n",
              "10    100\n",
              "9     100\n",
              "8     100\n",
              "7     100\n",
              "6     100\n",
              "5     100\n",
              "4     100\n",
              "3     100\n",
              "27    100\n",
              "Name: LABEL, dtype: int64"
            ]
          },
          "metadata": {},
          "execution_count": 8
        }
      ]
    },
    {
      "cell_type": "code",
      "source": [
        "data.isnull().sum()"
      ],
      "metadata": {
        "colab": {
          "base_uri": "https://localhost:8080/"
        },
        "id": "v3pX6OPVX1Q1",
        "outputId": "0a6cfc50-7925-411d-cd12-bf730795df1d"
      },
      "execution_count": 9,
      "outputs": [
        {
          "output_type": "execute_result",
          "data": {
            "text/plain": [
              "PH       0\n",
              "EC       0\n",
              "TEMP     0\n",
              "LABEL    0\n",
              "dtype: int64"
            ]
          },
          "metadata": {},
          "execution_count": 9
        }
      ]
    },
    {
      "cell_type": "code",
      "source": [
        "Y = data['LABEL']"
      ],
      "metadata": {
        "id": "iJmyMmisTxyw"
      },
      "execution_count": 10,
      "outputs": []
    },
    {
      "cell_type": "code",
      "source": [
        "# drop LABEL column from dataset\n",
        "\n",
        "X = data.drop(columns = \"LABEL\", axis= 1)"
      ],
      "metadata": {
        "id": "Ey3l6_7LUIsF"
      },
      "execution_count": 11,
      "outputs": []
    },
    {
      "cell_type": "code",
      "source": [
        "X.shape"
      ],
      "metadata": {
        "colab": {
          "base_uri": "https://localhost:8080/"
        },
        "id": "vAg1qr4VUTEq",
        "outputId": "0b219697-89bd-4977-8e05-b7809d8bdd83"
      },
      "execution_count": 12,
      "outputs": [
        {
          "output_type": "execute_result",
          "data": {
            "text/plain": [
              "(2700, 3)"
            ]
          },
          "metadata": {},
          "execution_count": 12
        }
      ]
    },
    {
      "cell_type": "markdown",
      "source": [
        "#Split data into separate training and test set"
      ],
      "metadata": {
        "id": "3FtEviu3yiON"
      }
    },
    {
      "cell_type": "code",
      "source": [
        "# split X and y into training and testing sets\n",
        "\n",
        "xTrain, xTest, yTrain, yTest = train_test_split(X,Y, random_state = 10, test_size = 0.3)"
      ],
      "metadata": {
        "id": "Z-Ynz0NbSzBe"
      },
      "execution_count": 13,
      "outputs": []
    },
    {
      "cell_type": "code",
      "source": [
        "# view dimensions of Training and Testing dataset\n",
        "\n",
        "xTrain.shape , xTest.shape"
      ],
      "metadata": {
        "colab": {
          "base_uri": "https://localhost:8080/"
        },
        "id": "Jj7xzshKVPua",
        "outputId": "97b604a8-65dd-4a6f-e466-8d1d00d0d798"
      },
      "execution_count": 14,
      "outputs": [
        {
          "output_type": "execute_result",
          "data": {
            "text/plain": [
              "((1890, 3), (810, 3))"
            ]
          },
          "metadata": {},
          "execution_count": 14
        }
      ]
    },
    {
      "cell_type": "markdown",
      "source": [
        "# Feature Scaling"
      ],
      "metadata": {
        "id": "9Zz2TuaQzru0"
      }
    },
    {
      "cell_type": "code",
      "source": [
        "# Feature Scaling\n",
        "\n",
        "scaler = MinMaxScaler()\n",
        "\n",
        "xTrain = scaler.fit_transform(xTrain)\n",
        "\n",
        "xTest = scaler.fit_transform(xTest)"
      ],
      "metadata": {
        "id": "liolidDmKHLP"
      },
      "execution_count": 15,
      "outputs": []
    },
    {
      "cell_type": "markdown",
      "source": [
        "# Fit K-Nearest Neighbours Classifier to the training set"
      ],
      "metadata": {
        "id": "Hzq3ADCOz-yN"
      }
    },
    {
      "cell_type": "code",
      "source": [
        "# instantiate the model\n",
        "\n",
        "knn = KNeighborsClassifier(n_neighbors=8)\n",
        "\n",
        "# fit the model to the training set\n",
        "\n",
        "knn.fit(xTrain,yTrain)"
      ],
      "metadata": {
        "colab": {
          "base_uri": "https://localhost:8080/"
        },
        "id": "HoqspslmVSxZ",
        "outputId": "a3a0e636-24a1-4bbc-f218-44f937bf7246"
      },
      "execution_count": 16,
      "outputs": [
        {
          "output_type": "execute_result",
          "data": {
            "text/plain": [
              "KNeighborsClassifier(n_neighbors=8)"
            ]
          },
          "metadata": {},
          "execution_count": 16
        }
      ]
    },
    {
      "cell_type": "markdown",
      "source": [
        "# Predict KNN test-set results"
      ],
      "metadata": {
        "id": "hcx4GywB0TWk"
      }
    },
    {
      "cell_type": "code",
      "source": [
        "y_pred = knn.predict(xTest)\n",
        "\n",
        "y_pred"
      ],
      "metadata": {
        "colab": {
          "base_uri": "https://localhost:8080/"
        },
        "id": "FWXBE5YR0fyl",
        "outputId": "d637ad3c-43c6-4483-94b1-20ca23da8fd5"
      },
      "execution_count": 17,
      "outputs": [
        {
          "output_type": "execute_result",
          "data": {
            "text/plain": [
              "array([ 3, 21, 24, 12, 12, 18,  9, 23,  5, 24,  4, 25,  2, 11,  2, 18,  6,\n",
              "        8,  2, 19, 18, 22, 18, 10, 24,  5, 11, 23, 21, 15, 12, 16, 20, 16,\n",
              "       20, 26,  4, 20,  8, 18,  7,  8, 23, 24, 26, 23, 25, 25,  3, 15,  1,\n",
              "       26,  6,  1, 13, 12, 15, 22, 20,  9,  8,  4, 20,  8, 20,  8,  3,  4,\n",
              "        6,  7, 15, 13,  7, 23, 10,  9, 10, 11, 11,  8, 11, 23, 21, 20,  1,\n",
              "       16, 20,  3, 11,  4, 24, 27, 17, 27,  8,  3,  1, 12, 15, 17, 15, 18,\n",
              "        9, 12, 20, 10, 10, 21, 23, 19, 23, 14, 18,  3,  8, 11,  8, 25,  5,\n",
              "       10, 23,  8, 13,  2, 12, 14, 20, 20,  9,  1, 17, 22, 12,  7,  7, 16,\n",
              "        2, 21,  3, 27, 16,  2, 25,  9,  8, 14,  6, 21,  5,  1,  8, 23,  5,\n",
              "        3, 20, 11, 27, 11, 18, 27, 13, 21, 18, 22, 16, 12, 11, 26,  1, 16,\n",
              "       11, 13, 15,  3,  2, 18,  2, 11,  7,  4, 19, 26, 16, 21,  7, 22, 17,\n",
              "       25,  2, 16,  7, 21,  7, 15, 22,  2,  9, 20, 26,  3,  2, 10, 26, 18,\n",
              "        9, 14,  4, 10,  7, 11,  3, 20,  9,  3,  5, 12,  7, 14, 10,  4, 21,\n",
              "       19,  9,  1, 10,  5, 22, 19, 20,  3, 11, 23,  9, 20, 26, 14, 25,  4,\n",
              "       12,  7, 27, 10, 21, 17,  1, 23,  5, 12, 14,  2, 16, 24, 19,  9,  7,\n",
              "        9,  3, 11,  4, 18,  1,  1, 25,  9,  9,  7, 21,  9,  7, 23,  3,  8,\n",
              "        9, 15,  5, 25, 16,  3,  2,  6, 14, 26, 18,  2, 10,  8, 15, 21, 22,\n",
              "        7,  3,  1, 25, 10, 25, 12, 10,  3, 16,  1, 12, 16, 23,  3, 11,  4,\n",
              "        1, 10,  7, 11, 27, 24, 19, 24, 27, 23, 10, 22,  1, 26, 13, 27,  1,\n",
              "       11,  3, 22,  2,  3, 13,  8, 20, 11, 12, 25, 18,  9, 21, 18,  6,  2,\n",
              "       19,  8, 14,  4, 26, 26, 21,  7, 10, 19,  6, 16,  1, 14, 26, 14, 27,\n",
              "       10,  6, 14,  1,  1, 16,  1, 12, 25,  5,  9,  2, 27, 11,  2, 17, 18,\n",
              "       10,  3,  5,  5, 26,  7, 11, 12,  1, 17, 26, 26,  4, 11, 13,  1, 14,\n",
              "        5,  6, 17,  3, 21,  6, 25,  5,  5, 13, 18,  4, 25, 14,  4, 20, 14,\n",
              "        1,  9,  4, 22, 22, 17, 17, 22,  9,  6,  9, 24, 15, 20, 18, 12, 22,\n",
              "        8, 23, 21, 22, 17, 15,  6, 19, 16, 19,  8, 16, 22, 19, 18, 18, 15,\n",
              "       10,  7,  5, 20,  5, 26, 20,  8, 17, 19,  6, 11, 23,  3, 14,  4, 13,\n",
              "        9, 17, 16, 21,  6, 22,  6, 17, 23, 10, 23, 22, 10,  3,  3, 12,  8,\n",
              "       19, 24,  7,  8, 19,  8,  6, 22,  2, 13,  8, 10, 23,  1,  8, 11, 21,\n",
              "       24, 24, 17, 15, 11, 13,  1, 24,  9, 25,  8, 16, 14,  7, 11, 24,  9,\n",
              "        3, 11,  6, 10,  9, 18,  9, 13,  2, 23, 20,  1, 15, 26,  3,  4, 12,\n",
              "       23, 16,  4,  4,  4,  2,  1, 27,  7, 12,  2, 26,  3,  4,  1,  4,  6,\n",
              "        7,  8, 18, 10, 25, 12, 24, 18, 16,  5,  4, 22, 19, 27, 23, 15, 11,\n",
              "       23, 21, 12, 18, 19, 27, 18, 27,  8, 25, 17, 22,  8,  4, 15, 19, 16,\n",
              "        3,  5, 16,  4, 27, 22, 15, 11,  9,  9, 20, 14,  8,  4, 10,  8, 12,\n",
              "       17, 19,  8, 27, 17,  6,  4, 18,  6, 20, 20,  1,  5,  2,  1, 13,  3,\n",
              "       13, 13, 21, 13, 11, 26, 17, 14,  6, 11,  6,  9, 24,  9, 11,  5, 20,\n",
              "       23, 23, 23, 25, 19,  8, 23, 24, 15, 10, 21,  1,  3,  2, 17,  4, 22,\n",
              "       22, 19, 15, 12, 18, 27,  3, 23, 12,  3, 14,  9,  5, 27,  5, 12,  2,\n",
              "        1, 17, 19, 11,  8,  9, 12,  2,  8,  7,  7, 14, 10, 18, 16,  2, 21,\n",
              "       26,  9, 12, 19, 13, 21,  2,  9, 23, 18, 24, 13,  4, 16,  3, 18, 21,\n",
              "       24, 27,  4,  1,  8,  5, 24, 14,  4, 25,  8, 18, 22,  2, 16, 19,  1,\n",
              "       10,  7,  3, 11, 26, 23, 26,  9, 23,  8, 10,  5, 23,  9, 20,  6,  1,\n",
              "       23,  9,  9, 18, 23,  4,  9,  9, 13,  3,  5,  4,  6,  1,  2,  3,  2,\n",
              "       14, 24,  6,  5,  9,  1,  8, 14, 15, 16, 20,  1,  2,  1,  6, 20,  2,\n",
              "        6, 13,  6, 15, 12,  9, 17, 12, 17,  9,  6,  6,  2, 16, 11, 12, 14,\n",
              "        4,  9, 11,  1, 23, 17,  2, 21,  4,  4,  4,  1,  3, 14,  8,  9, 18,\n",
              "        1, 22, 26,  8,  4,  4,  8,  7, 18,  6, 12])"
            ]
          },
          "metadata": {},
          "execution_count": 17
        }
      ]
    },
    {
      "cell_type": "markdown",
      "source": [
        "# Check KNN accuracy score"
      ],
      "metadata": {
        "id": "lBpn5_PA0s_r"
      }
    },
    {
      "cell_type": "code",
      "source": [
        "training_data_accuracy = accuracy_score(y_pred, yTest)"
      ],
      "metadata": {
        "id": "03AwqkE5VsFh"
      },
      "execution_count": 18,
      "outputs": []
    },
    {
      "cell_type": "code",
      "source": [
        "print('Model accuracy score: {0:0.4f}'. format(accuracy_score(yTest, y_pred)))"
      ],
      "metadata": {
        "colab": {
          "base_uri": "https://localhost:8080/"
        },
        "id": "FdnExWURW5nk",
        "outputId": "779caca2-30de-4a99-b177-b7fa0a3f4aa9"
      },
      "execution_count": 19,
      "outputs": [
        {
          "output_type": "stream",
          "name": "stdout",
          "text": [
            "Model accuracy score: 0.8494\n"
          ]
        }
      ]
    },
    {
      "cell_type": "code",
      "source": [
        "# Compare the train-set and test-set accuracy\n",
        "\n",
        "y_pred_train = knn.predict(xTrain)\n",
        "\n",
        "print('Training-set accuracy score: {0:0.4f}'. format(accuracy_score(yTrain, y_pred_train)))"
      ],
      "metadata": {
        "colab": {
          "base_uri": "https://localhost:8080/"
        },
        "id": "jHxh4IjL1vIP",
        "outputId": "5371c209-2548-455f-da51-788efd148f49"
      },
      "execution_count": 20,
      "outputs": [
        {
          "output_type": "stream",
          "name": "stdout",
          "text": [
            "Training-set accuracy score: 0.8968\n"
          ]
        }
      ]
    },
    {
      "cell_type": "code",
      "source": [
        "accuracyKNN =[]\n",
        "\n",
        "neighbors = 13\n",
        "\n",
        "for n in range(1,neighbors):\n",
        "  knn.set_params(n_neighbors=n)\n",
        "  knn.fit(xTrain,yTrain)\n",
        "  y_pred=knn.predict(xTest)\n",
        "  accuracyKNN.append(accuracy_score(yTest,y_pred))\n",
        "\n",
        "neighbors = np.arange(1,13)\n",
        "plt.title(\"Effect of n_neighbors\")\n",
        "plt.xlabel(\"n_neighbors\")\n",
        "plt.ylabel(\"accuracy\")\n",
        "plt.plot(neighbors,accuracyKNN);"
      ],
      "metadata": {
        "id": "pc0knPyMW7zu",
        "colab": {
          "base_uri": "https://localhost:8080/",
          "height": 296
        },
        "outputId": "20747192-b05a-48b7-da68-5c7866447019"
      },
      "execution_count": 21,
      "outputs": [
        {
          "output_type": "display_data",
          "data": {
            "text/plain": [
              "<Figure size 432x288 with 1 Axes>"
            ],
            "image/png": "[encoded data removed]"
          },
          "metadata": {
            "needs_background": "light"
          }
        }
      ]
    },
    {
      "cell_type": "markdown",
      "source": [
        "# Fit Random Forest Classifier to the training set"
      ],
      "metadata": {
        "id": "jCXe09_zCucv"
      }
    },
    {
      "cell_type": "code",
      "source": [
        "# instantiate the model\n",
        "\n",
        "rfc = RandomForestClassifier(n_estimators=20)\n",
        "\n",
        "# fit the model to the training set\n",
        "\n",
        "rfc.fit(xTrain,yTrain)"
      ],
      "metadata": {
        "id": "84APlPl3Pjir",
        "colab": {
          "base_uri": "https://localhost:8080/"
        },
        "outputId": "384d710c-0932-41dd-bc51-7236bbe7c424"
      },
      "execution_count": 22,
      "outputs": [
        {
          "output_type": "execute_result",
          "data": {
            "text/plain": [
              "RandomForestClassifier(n_estimators=20)"
            ]
          },
          "metadata": {},
          "execution_count": 22
        }
      ]
    },
    {
      "cell_type": "markdown",
      "source": [
        "# Predict Random Forest Classifier test-set results"
      ],
      "metadata": {
        "id": "8IoAVFEwXDCF"
      }
    },
    {
      "cell_type": "code",
      "source": [
        "y_pred=rfc.predict(xTest)\n",
        "\n",
        "y_pred"
      ],
      "metadata": {
        "id": "zjIJV7xmQRO0",
        "colab": {
          "base_uri": "https://localhost:8080/"
        },
        "outputId": "dd1a2735-e20e-4e69-8835-3c4d9a3ad88a"
      },
      "execution_count": 23,
      "outputs": [
        {
          "output_type": "execute_result",
          "data": {
            "text/plain": [
              "array([ 3, 21, 22, 12, 12, 18,  9, 23,  5, 24,  4, 25,  2, 14,  2, 18,  6,\n",
              "       20,  2, 19,  9, 24, 18, 11, 24,  5, 11, 23, 21, 15, 12, 16, 20, 16,\n",
              "       20, 26,  4, 20,  8, 18,  7,  8, 23, 24, 26, 23, 25, 25,  3, 15,  2,\n",
              "       26,  6, 19, 13, 12, 15, 24, 20,  9,  8,  4, 20,  8, 20,  8,  3,  4,\n",
              "        6,  7, 15, 13,  9, 23, 10,  9, 10, 11, 11,  8, 11, 23, 24, 20,  1,\n",
              "       16, 20,  3, 11, 25, 24, 27, 17, 27,  8, 21,  1, 12, 15, 17, 15, 18,\n",
              "        9, 12, 20, 10, 10, 21, 23, 19, 23, 14, 18,  3, 26, 14,  8, 25,  5,\n",
              "       13, 23,  8, 13, 20, 12, 14, 20, 20,  9,  1, 17, 22, 12,  7,  7, 18,\n",
              "        2, 21,  3, 27, 16,  2, 25,  9,  8, 14,  6, 21, 14,  1, 26, 23,  5,\n",
              "        3, 20, 14, 27, 11, 18, 27, 13, 21, 18, 22, 16, 12, 11, 26,  1, 16,\n",
              "       11, 13, 15,  3, 11, 18,  2, 11,  7,  4, 19, 26, 16, 21,  7, 22, 17,\n",
              "       25,  2, 18,  7, 21,  7, 15, 24,  2,  9, 20, 26,  3,  2, 10, 26, 18,\n",
              "        9, 14,  4, 10, 26, 11,  3, 20,  9,  3, 14, 12,  7, 14, 10,  4, 21,\n",
              "       19,  9,  1, 10, 14, 24, 19, 20,  3, 11, 23, 27, 20, 26, 14, 24,  4,\n",
              "       12,  7, 27, 10, 19, 17,  1, 23,  5, 12, 13, 11, 16, 24, 20,  9,  7,\n",
              "        9, 12, 11,  4, 18,  1,  1, 25,  9,  9,  7, 21,  9,  7, 23,  3,  8,\n",
              "        9, 15,  5, 25, 18,  3,  2,  3, 14, 26, 18,  2, 10, 26, 15, 21, 22,\n",
              "       16,  3,  1, 25, 16, 25, 12, 10,  3, 16,  1, 12, 16, 23,  3, 11, 13,\n",
              "        1, 10,  7, 11, 27, 24, 19, 22, 27, 23, 10, 22,  1, 26, 13, 27, 19,\n",
              "       11,  3, 22,  2,  1, 15,  8, 20, 11, 12,  4, 18,  9, 21, 18,  6,  2,\n",
              "       25,  8, 14, 13, 26, 26, 21,  1, 10, 19,  6, 16,  1, 14, 26, 14, 27,\n",
              "       10,  6, 14, 19,  1, 18,  7, 15, 25,  5,  9,  2, 27, 11,  2, 17, 18,\n",
              "       10, 12,  5,  5, 26,  7, 11, 12,  1, 17, 26, 26,  4, 11, 15,  1, 14,\n",
              "        5,  6, 17,  3, 21,  6, 25,  4,  5, 13, 18, 15, 25, 14,  4, 20, 14,\n",
              "        1,  9,  4, 22, 24, 17, 17, 22,  9,  6, 18, 24, 15, 20, 18, 12, 22,\n",
              "        8, 23, 21, 24, 17, 15,  6, 19, 16, 19,  8, 16, 22, 19, 18, 18, 15,\n",
              "       10, 16, 14, 20,  5, 26, 20,  8, 17, 19,  6, 11, 23,  3, 14,  4, 13,\n",
              "        9, 17, 16, 21, 22, 24,  6, 17, 23, 10, 23, 24, 10, 21,  3, 12,  8,\n",
              "       19, 24, 27,  8, 19,  8,  6, 22, 20, 13,  8, 12, 23,  1,  8, 11, 21,\n",
              "       21, 24, 17, 15, 11, 14,  1, 24,  9, 25,  8, 16, 14,  7, 11, 22,  9,\n",
              "        3, 11,  6, 12,  9, 18,  9, 15, 19, 25, 20,  1, 15, 26,  3,  4, 12,\n",
              "       23, 16,  4,  4, 13,  2,  1, 27,  7, 12,  2, 26,  3, 25,  1, 25,  6,\n",
              "        7,  8, 18, 12, 25, 12, 24, 18, 16,  5,  4, 22, 19, 27, 23, 15, 11,\n",
              "       23, 21, 18, 18, 19, 27, 18, 27,  8, 25, 17, 24,  8,  4, 15, 19, 16,\n",
              "        3,  5, 16,  4, 27, 22, 15, 11,  9,  9, 20, 14,  8,  4, 10,  8, 15,\n",
              "       17, 19,  8, 27, 17,  6,  4, 18,  6, 20, 20, 19,  5,  2,  1, 13,  3,\n",
              "       10, 13, 21, 13, 14, 26, 17, 14,  6, 11,  6,  3, 24,  9, 11, 14, 20,\n",
              "       23, 23, 23, 25, 19,  7, 23, 24, 15, 10, 24,  1,  3,  2, 11, 25, 22,\n",
              "       22, 19, 15, 12, 18, 27,  3, 23, 12,  3, 14,  9,  5, 27,  5, 12,  2,\n",
              "        1, 17, 19, 11,  8,  9, 12,  2,  8,  7,  7, 14, 10, 18, 16,  2, 21,\n",
              "       20,  9, 12, 19, 13, 21,  2,  9, 23, 18, 22, 13,  4, 16,  3, 18, 21,\n",
              "       24, 27,  4,  1, 26,  5, 24, 14,  4, 25,  8, 18, 22,  2, 16, 19,  1,\n",
              "       10,  7,  3, 11, 26, 23, 26,  9, 23,  8, 12, 14, 25,  9, 20, 15,  1,\n",
              "       23,  9,  9, 12, 23,  4,  9, 27, 13,  3,  5,  4,  6,  1,  5,  3,  2,\n",
              "       14, 24,  6,  5,  9,  1,  8, 14, 15, 16, 20, 19,  2,  1,  6, 20,  2,\n",
              "       15, 13,  6, 15, 12,  9, 17, 12, 11,  9,  6,  6,  2, 16, 11, 12, 14,\n",
              "        4,  9, 11,  1, 25, 17,  2, 21,  4,  4,  4,  1,  3, 14,  8,  9, 18,\n",
              "        1, 24, 26,  8,  4, 13,  8,  7, 18, 15, 12])"
            ]
          },
          "metadata": {},
          "execution_count": 23
        }
      ]
    },
    {
      "cell_type": "markdown",
      "source": [
        "# Check Random Classifier accuracy score"
      ],
      "metadata": {
        "id": "NDW8dwK5Xapu"
      }
    },
    {
      "cell_type": "code",
      "source": [
        "# Compare the train-set and test-set accuracy\n",
        "\n",
        "from sklearn import metrics\n",
        "\n",
        "print(\"Testing Accuracy:\",metrics.accuracy_score(yTest,y_pred))\n",
        "\n",
        "y_pred=rfc.predict(xTrain)\n",
        "\n",
        "print(\"Training Accuracy:\",metrics.accuracy_score(yTrain,y_pred))"
      ],
      "metadata": {
        "id": "dsHBfOElQZv9",
        "colab": {
          "base_uri": "https://localhost:8080/"
        },
        "outputId": "0da9ab32-667c-4a03-c42e-fc13ba44c36e"
      },
      "execution_count": 24,
      "outputs": [
        {
          "output_type": "stream",
          "name": "stdout",
          "text": [
            "Testing Accuracy: 0.9617283950617284\n",
            "Training Accuracy: 1.0\n"
          ]
        }
      ]
    },
    {
      "cell_type": "code",
      "source": [
        "estimators = np.arange(10,100,10)\n",
        "accuracy =[]\n",
        "for n in estimators:\n",
        "  rfc.set_params(n_estimators=n)\n",
        "  rfc.fit(xTrain,yTrain)\n",
        "  y_pred=rfc.predict(xTest)\n",
        "  accuracy.append(metrics.accuracy_score(yTest,y_pred))"
      ],
      "metadata": {
        "id": "tEYyXwu3S3uq"
      },
      "execution_count": 25,
      "outputs": []
    },
    {
      "cell_type": "code",
      "source": [
        "plt.title(\"Effect of n_estimators\")\n",
        "plt.xlabel(\"n_estimator\")\n",
        "plt.ylabel(\"accuracy\")\n",
        "plt.plot(estimators,accuracy)"
      ],
      "metadata": {
        "colab": {
          "base_uri": "https://localhost:8080/",
          "height": 313
        },
        "id": "yALY81GsS9cU",
        "outputId": "a939d133-be40-4700-b52a-b2a4a098d141"
      },
      "execution_count": 26,
      "outputs": [
        {
          "output_type": "execute_result",
          "data": {
            "text/plain": [
              "[<matplotlib.lines.Line2D at 0x7f7cdd9b6950>]"
            ]
          },
          "metadata": {},
          "execution_count": 26
        },
        {
          "output_type": "display_data",
          "data": {
            "text/plain": [
              "<Figure size 432x288 with 1 Axes>"
            ],
            "image/png": "[encoded data removed]"
          },
          "metadata": {
            "needs_background": "light"
          }
        }
      ]
    },
    {
      "cell_type": "markdown",
      "source": [
        "# Support Vector Machine"
      ],
      "metadata": {
        "id": "7AsBD7PPYBb7"
      }
    },
    {
      "cell_type": "code",
      "source": [
        "# instantiate the model\n",
        "\n",
        "svm = SVC(kernel='rbf', gamma=0.001, C=1000)\n",
        "\n",
        "# fit the model to the training set\n",
        "\n",
        "svm.fit(xTrain, yTrain)"
      ],
      "metadata": {
        "colab": {
          "base_uri": "https://localhost:8080/"
        },
        "id": "fJmqsFJwRBbi",
        "outputId": "44801d61-c5db-4e31-85fe-7768d9990f45"
      },
      "execution_count": 27,
      "outputs": [
        {
          "output_type": "execute_result",
          "data": {
            "text/plain": [
              "SVC(C=1000, gamma=0.001)"
            ]
          },
          "metadata": {},
          "execution_count": 27
        }
      ]
    },
    {
      "cell_type": "markdown",
      "source": [
        "# Fit Support vector Machine to the training set"
      ],
      "metadata": {
        "id": "D_XG_OWsh5Ws"
      }
    },
    {
      "cell_type": "code",
      "source": [
        "Y_pred = svm.predict(xTrain)\n",
        "\n",
        "\n",
        "print(\"Training set score for SVM: %f\" % svm.score(xTrain , yTrain))\n",
        "print(\"Testing  set score for SVM: %f\" % svm.score(xTest, yTest ))"
      ],
      "metadata": {
        "colab": {
          "base_uri": "https://localhost:8080/"
        },
        "id": "O-giF1SjRB4-",
        "outputId": "a27b4b66-e6bd-413f-c76e-03ed59eccbfe"
      },
      "execution_count": 29,
      "outputs": [
        {
          "output_type": "stream",
          "name": "stdout",
          "text": [
            "Training set score for SVM: 0.856085\n",
            "Testing  set score for SVM: 0.843210\n"
          ]
        }
      ]
    },
    {
      "cell_type": "markdown",
      "source": [
        "# Check Support vector machine accuracy score"
      ],
      "metadata": {
        "id": "5QKGYdScieEl"
      }
    },
    {
      "cell_type": "code",
      "source": [
        "estimators = np.arange(0.001,1,0.1)\n",
        "accuracy =[]\n",
        "for n in estimators:\n",
        "  svm.set_params(gamma = n)\n",
        "  svm.fit(xTrain,yTrain)\n",
        "  y_pred=svm.predict(xTest)\n",
        "  accuracy.append(metrics.accuracy_score(yTest,y_pred))"
      ],
      "metadata": {
        "id": "vgFN4WZZek8d"
      },
      "execution_count": 30,
      "outputs": []
    },
    {
      "cell_type": "code",
      "source": [
        "plt.title(\"Effect of gamma\")\n",
        "plt.xlabel(\"Gamma\")\n",
        "plt.ylabel(\"accuracy\")\n",
        "plt.plot(estimators,accuracy)"
      ],
      "metadata": {
        "colab": {
          "base_uri": "https://localhost:8080/",
          "height": 312
        },
        "id": "HhVPzsuMgpQ3",
        "outputId": "36d1545b-fb2e-4ccb-83fe-e13477b16bf4"
      },
      "execution_count": 31,
      "outputs": [
        {
          "output_type": "execute_result",
          "data": {
            "text/plain": [
              "[<matplotlib.lines.Line2D at 0x7f7cdd8d8790>]"
            ]
          },
          "metadata": {},
          "execution_count": 31
        },
        {
          "output_type": "display_data",
          "data": {
            "text/plain": [
              "<Figure size 432x288 with 1 Axes>"
            ],
            "image/png": "[encoded data removed]"
          },
          "metadata": {
            "needs_background": "light"
          }
        }
      ]
    },
    {
      "cell_type": "code",
      "source": [
        "result = {\n",
        "\"1\":\"Chiller = off \\nTDS = pump off \\npH = pump off\",\n",
        "\"2\":\"Chiller = on \\n\",\n",
        "\"3\":\"Chiller = off \\n\",\n",
        "\"4\":\"TDS down = pump on \\n\",\n",
        "\"5\":\"Chiller = on \\nTDS down = pump on \\n\",\n",
        "\"6\":\"TDS down = pump on \\n\",\n",
        "\"7\":\"Nutrition ab = pump on \\n\",\n",
        "\"8\":\"Chiller = on \\nNutrition ab = pump on \\n\",\n",
        "\"9\":\"Nutrition ab = pump on \\n\",\n",
        "\"10\":\"pH down = pump on \\n\",\n",
        "\"11\":\"Chiller = on \\npH down = pump on\",\n",
        "\"12\":\"pH down = pump on \\n\",\n",
        "\"13\":\"TDS down = pump on \\npH down = pump on \\n\",\n",
        "\"14\":\"Chiller = on \\nTDS down = pump on \\npH down = pump on \\n\",\n",
        "\"15\":\"TDS down = pump on \\npH down = pump on \\n\",\n",
        "\"16\":\"Nutrition ab = pump on \\npH down = pump on \\n\",\n",
        "\"17\":\"Chiller = on \\nNutrition ab = pump on \\n\",\n",
        "\"18\":\"Nutrition ab = pump on \\npH down = pump on \\n\",\n",
        "\"19\":\"pH up = pump on \\n\",\n",
        "\"20\":\"Chiller = on \\npH up = pump on \\n\",\n",
        "\"21\":\"pH up = pump on \\n\",\n",
        "\"22\":\"pH up = pump on \\nTDS down = pump on \\n\",\n",
        "\"23\":\"Chiller = on \\npH up = pump on \\nTDS down pump on \\n\",\n",
        "\"24\":\"pH up = pump on \\nTDS down = pump on \\n\",\n",
        "\"25\":\"pH up = pump on \\nNutrition ab = pump on \\n\",\n",
        "\"26\":\"Chiller = on \\npH up = pump on \\nNutrition ab = pump on \\n\",\n",
        "\"27\":\"pH up = pump on \\nNutrition ab = pump on \\n\",\n",
        "}"
      ],
      "metadata": {
        "id": "LKz6VL-q9a3I"
      },
      "execution_count": 33,
      "outputs": []
    },
    {
      "cell_type": "code",
      "source": [
        "pred = rfc.predict([[5.73,4.89,37.29]])\n",
        "print(result[str(pred[0])])"
      ],
      "metadata": {
        "colab": {
          "base_uri": "https://localhost:8080/"
        },
        "id": "WZtpzB5V-N-k",
        "outputId": "738f49ae-6513-4e30-9626-d4a45c59c2fd"
      },
      "execution_count": 34,
      "outputs": [
        {
          "output_type": "stream",
          "name": "stdout",
          "text": [
            "Chiller = on \n",
            "TDS down = pump on \n",
            "pH down = pump on \n",
            "\n"
          ]
        }
      ]
    },
    {
      "cell_type": "code",
      "source": [
        ""
      ],
      "metadata": {
        "id": "CqTlW14x_S8B"
      },
      "execution_count": null,
      "outputs": []
    }
  ]
}